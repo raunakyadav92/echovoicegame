{
  "nbformat": 4,
  "nbformat_minor": 0,
  "metadata": {
    "colab": {
      "provenance": [],
      "authorship_tag": "ABX9TyN1x79iAmAiqOsLt1V8j0Oh",
      "include_colab_link": true
    },
    "kernelspec": {
      "name": "python3",
      "display_name": "Python 3"
    },
    "language_info": {
      "name": "python"
    }
  },
  "cells": [
    {
      "cell_type": "markdown",
      "metadata": {
        "id": "view-in-github",
        "colab_type": "text"
      },
      "source": [
        "<a href=\"https://colab.research.google.com/github/raunakyadav92/echovoicegame/blob/main/cchovoice.ipynb\" target=\"_parent\"><img src=\"https://colab.research.google.com/assets/colab-badge.svg\" alt=\"Open In Colab\"/></a>"
      ]
    },
    {
      "cell_type": "code",
      "execution_count": null,
      "metadata": {
        "id": "sBKMC_0SCweT"
      },
      "outputs": [],
      "source": [
        "import sounddevice as sd\n",
        "import wavio\n",
        "import pygame\n",
        "\n",
        "def record_voice(duration=3, fs=44100):\n",
        "    print(\"🎤 Recording your voice for echo...\")\n",
        "    recording = sd.rec(int(duration * fs), samplerate=fs, channels=1, dtype='int16')\n",
        "    sd.wait()\n",
        "    wavio.write(\"myvoice.wav\", recording, fs, sampwidth=2)\n",
        "    print(\"✅ Recorded! Now playing it back...\")\n",
        "\n",
        "def play_voice():\n",
        "    pygame.mixer.init()\n",
        "    pygame.mixer.music.load(\"myvoice.wav\")\n",
        "    pygame.mixer.music.play()\n",
        "    while pygame.mixer.music.get_busy():\n",
        "        continue\n",
        "\n",
        "record_voice()\n",
        "play_voice()\n"
      ]
    }
  ]
}